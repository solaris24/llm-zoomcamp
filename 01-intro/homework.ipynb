{
 "cells": [
  {
   "cell_type": "code",
   "execution_count": 1,
   "id": "5730b853-b19a-40d0-8afa-28de41e5de9b",
   "metadata": {},
   "outputs": [],
   "source": [
    "import openai"
   ]
  },
  {
   "cell_type": "code",
   "execution_count": 2,
   "id": "d366b4f8-94cb-4aff-a2a0-79b775106114",
   "metadata": {},
   "outputs": [],
   "source": [
    "from openai import OpenAI"
   ]
  },
  {
   "cell_type": "code",
   "execution_count": 4,
   "id": "4021e284-628f-4679-ad16-a2190d0715b7",
   "metadata": {},
   "outputs": [],
   "source": [
    "client = OpenAI()"
   ]
  },
  {
   "cell_type": "code",
   "execution_count": 5,
   "id": "b9f6f2c2-d6e8-4382-b0b8-79a8c294051e",
   "metadata": {},
   "outputs": [],
   "source": [
    "import os"
   ]
  },
  {
   "cell_type": "code",
   "execution_count": 8,
   "id": "8ae007bf-768b-4247-861c-b821d3e30db9",
   "metadata": {},
   "outputs": [],
   "source": [
    "response = client.chat.completions.create(\n",
    "    model='gpt-4o',\n",
    "    messages=[{\"role\": \"user\", \"content\": \"it is too late to join the course?\"}]\n",
    ")"
   ]
  },
  {
   "cell_type": "code",
   "execution_count": 9,
   "id": "9230f4c8-d790-4fbe-b980-74242ddc0684",
   "metadata": {},
   "outputs": [
    {
     "data": {
      "text/plain": [
       "\"Whether it's too late to join a course depends on several factors, including the specific deadlines and enrollment policies of the institution offering the course, the type of course (e.g., semester-based, quarterly, self-paced online), and where you are in the academic calendar.\\n\\nHere are a few steps you can take if you're considering joining a course that has already started:\\n\\n1. **Check Enrollment Deadlines**: Visit the course or institution's website to find information on enrollment deadlines. Some courses may have strict cut-off dates, while others might allow late enrollment with certain conditions.\\n\\n2. **Contact the Instructor or Institution**: Reach out to the course instructor or the admissions office. Explain your situation and ask if it’s possible to join late. They may be willing to make exceptions or offer you alternatives.\\n\\n3. **Review Course Materials**: If late enrollment is an option, find out if you can access the course materials immediately. This will help you catch up on what you've missed.\\n\\n4. **Understand the Impact**: Consider the workload you’ll need to tackle to catch up and stay current with the course. Assess whether you have the time and resources to handle it.\\n\\n5. **Alternative Options**: If joining the course now isn’t possible, ask about the next available session or similar courses you might take in the meantime.\\n\\n6. **Self-Paced Learning**: If the course is offered online, check if it’s self-paced. Some online courses allow you to start at any time and work through the material at your own speed.\\n\\nIt's always a good idea to be proactive and communicate directly with the institution or instructor for the most accurate and personalized information.\""
      ]
     },
     "execution_count": 9,
     "metadata": {},
     "output_type": "execute_result"
    }
   ],
   "source": [
    "response.choices[0].message.content"
   ]
  },
  {
   "cell_type": "code",
   "execution_count": null,
   "id": "15224b5d-6da9-4bd1-a192-2597c72caf11",
   "metadata": {},
   "outputs": [],
   "source": []
  }
 ],
 "metadata": {
  "kernelspec": {
   "display_name": "Python 3 (ipykernel)",
   "language": "python",
   "name": "python3"
  },
  "language_info": {
   "codemirror_mode": {
    "name": "ipython",
    "version": 3
   },
   "file_extension": ".py",
   "mimetype": "text/x-python",
   "name": "python",
   "nbconvert_exporter": "python",
   "pygments_lexer": "ipython3",
   "version": "3.10.13"
  }
 },
 "nbformat": 4,
 "nbformat_minor": 5
}
